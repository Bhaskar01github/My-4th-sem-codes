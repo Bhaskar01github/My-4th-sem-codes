{
 "cells": [
  {
   "cell_type": "markdown",
   "metadata": {},
   "source": [
    "Use Rectangular method, Trapezoidal rule and Simpson’s rule applying the original formulas to find the approximate integral of the function 1/x in the interval [1, 2]. Compare the approximate values with other actual values of the integral.\n",
    "Repeat the above using scipy.integrate for Trapezoidal and Simpson’s rules.\n"
   ]
  },
  {
   "cell_type": "code",
   "execution_count": 28,
   "metadata": {
    "scrolled": false
   },
   "outputs": [
    {
     "name": "stdout",
     "output_type": "stream",
     "text": [
      "The integral value is:0.6934\n"
     ]
    }
   ],
   "source": [
    "#Rectangular Method\n",
    "import numpy as np\n",
    "\n",
    "def f(x):\n",
    "    return 1/x\n",
    "interval=[0,1]\n",
    "points,h=np.linspace(1,2,1000,endpoint=False,retstep=True)\n",
    "#print(points,h)\n",
    "intval=0\n",
    "\n",
    "for i in range(len(points)):\n",
    "    intval+=f(points[i])*h\n",
    "    i+=1\n",
    "print(\"The integral value is:%.4f\"%(intval))\n",
    "\n",
    "\n",
    "\n",
    "\n"
   ]
  },
  {
   "cell_type": "code",
   "execution_count": 27,
   "metadata": {
    "scrolled": false
   },
   "outputs": [
    {
     "name": "stdout",
     "output_type": "stream",
     "text": [
      "The integral value is:0.6936\n"
     ]
    }
   ],
   "source": [
    "#trapezoidal rule\n",
    "import numpy as np\n",
    "#import scipy\n",
    "\n",
    "def f(x):\n",
    "    return 1/x\n",
    "\n",
    "points,h=np.linspace(1,2,1000,endpoint=True,retstep=True)\n",
    "intval=h*((f(points[0])+f(points[-1]))/2+sum(f(points[1:])))\n",
    "print(\"The integral value is:%.4f\"%(intval))\n",
    "#print(scipy.integrate.trapz(points,x=None,dx=h))\n",
    "\n"
   ]
  },
  {
   "cell_type": "markdown",
   "metadata": {},
   "source": [
    "Given the plot of land in the figure below, use the formula of Rectangular rule to approximate the area (shown in black). Do the same using both the original formulas and scipy implementations of Trapezoidal rule and Simpson’s rule. Compute the actual area (hint: use the formula of a circle) and compare the approximate values for this area by printing the percentage accuracy (abs(approx-actual)/actual)*100) for all the above approximate values.\n"
   ]
  },
  {
   "cell_type": "code",
   "execution_count": 26,
   "metadata": {},
   "outputs": [
    {
     "name": "stdout",
     "output_type": "stream",
     "text": [
      "19.6472\n",
      "0.06247828848820843\n",
      "The integral value is:19.6347\n",
      "0.0011854664672636076\n"
     ]
    }
   ],
   "source": [
    "import numpy as np\n",
    "def g(x):\n",
    "    return (5**2-x**2)**0.5\n",
    "points,h=np.linspace(0,5,1000,endpoint=False,retstep=True)\n",
    "intval=h*(sum(g(points)))\n",
    "\n",
    "print(round(intval,4))\n",
    "actual=(25/4)*np.pi\n",
    "approx1=intval\n",
    "accuracy1=(abs(approx1-actual)/actual)*100\n",
    "print(accuracy1)\n",
    "points,h=np.linspace(0,5,1000,endpoint=True,retstep=True)\n",
    "intvalue=h*((g(points[0])+g(points[-1]))/2+sum(g(points[1:])))\n",
    "print(\"The integral value is:%.4f\"%(intvalue))\n",
    "approx2=intvalue\n",
    "accuracy2=(abs(approx2-actual)/actual)*100\n",
    "\n",
    "print(accuracy2)\n",
    "    "
   ]
  },
  {
   "cell_type": "markdown",
   "metadata": {},
   "source": [
    "Simulate a dice game for a single player named Shakuni. The player throws the dice until he gets a six, when he stops. Use random.uniform(a, b) [generates uniformly distributed random number between a & b] to simulate the outcome using the scheme: random number < 1 ⇒  side ‘one’ appears, random number >=1 and <2 ⇒ side ‘two’ appears and so on. Plot the outcomes (along y-axis, with trial number along x-axis) using matplotlib.pyplot.plot. Also, indicate the first and last throws as “start” and “stop” respectively on the plot using matplotlib.pyplot.text(x, y, t) [prints t on the plot at (x,y)].\n"
   ]
  },
  {
   "cell_type": "code",
   "execution_count": 56,
   "metadata": {},
   "outputs": [
    {
     "name": "stdout",
     "output_type": "stream",
     "text": [
      "4.721383667985632\n",
      "0\n",
      "4.721383667985632\n",
      "0\n",
      "4.721383667985632\n",
      "0\n",
      "4.721383667985632\n",
      "5\n",
      "5\n",
      "4.721383667985632\n",
      "5\n",
      "[5]\n"
     ]
    }
   ],
   "source": [
    "import random \n",
    "\n",
    "outcomes=[]\n",
    "s=0\n",
    "while s<6\n",
    "    print(randomn)\n",
    "    if randomn>=i and randomn<i+1:\n",
    "        s=i+1\n",
    "        print(s)\n",
    "    if randomn<1:\n",
    "        s=i\n",
    "        print(s)\n",
    "    print(s)    \n",
    "outcomes.append(s)   \n",
    "print(outcomes)        \n",
    "        \n",
    "        \n",
    "                "
   ]
  },
  {
   "cell_type": "code",
   "execution_count": null,
   "metadata": {},
   "outputs": [],
   "source": []
  },
  {
   "cell_type": "code",
   "execution_count": null,
   "metadata": {},
   "outputs": [],
   "source": []
  },
  {
   "cell_type": "code",
   "execution_count": null,
   "metadata": {},
   "outputs": [],
   "source": []
  },
  {
   "cell_type": "code",
   "execution_count": null,
   "metadata": {},
   "outputs": [],
   "source": []
  },
  {
   "cell_type": "code",
   "execution_count": null,
   "metadata": {},
   "outputs": [],
   "source": []
  },
  {
   "cell_type": "code",
   "execution_count": null,
   "metadata": {},
   "outputs": [],
   "source": []
  },
  {
   "cell_type": "code",
   "execution_count": null,
   "metadata": {},
   "outputs": [],
   "source": []
  },
  {
   "cell_type": "code",
   "execution_count": null,
   "metadata": {},
   "outputs": [],
   "source": []
  }
 ],
 "metadata": {
  "kernelspec": {
   "display_name": "Python 3",
   "language": "python",
   "name": "python3"
  },
  "language_info": {
   "codemirror_mode": {
    "name": "ipython",
    "version": 3
   },
   "file_extension": ".py",
   "mimetype": "text/x-python",
   "name": "python",
   "nbconvert_exporter": "python",
   "pygments_lexer": "ipython3",
   "version": "3.8.10"
  }
 },
 "nbformat": 4,
 "nbformat_minor": 4
}
