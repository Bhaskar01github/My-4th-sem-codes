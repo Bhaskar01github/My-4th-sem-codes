{
 "cells": [
  {
   "cell_type": "markdown",
   "metadata": {},
   "source": [
    "Use Rectangular method, Trapezoidal rule and Simpson’s rule applying the original formulas to find the approximate integral of the function 1/x in the interval [1, 2]. Compare the approximate values with other actual values of the integral.\n",
    "Repeat the above using scipy.integrate for Trapezoidal and Simpson’s rules.\n"
   ]
  },
  {
   "cell_type": "code",
   "execution_count": 28,
   "metadata": {
    "scrolled": false
   },
   "outputs": [
    {
     "name": "stdout",
     "output_type": "stream",
     "text": [
      "The integral value is:0.6934\n"
     ]
    }
   ],
   "source": [
    "#Rectangular Method\n",
    "import numpy as np\n",
    "\n",
    "def f(x):\n",
    "    return 1/x\n",
    "interval=[0,1]\n",
    "points,h=np.linspace(1,2,1000,endpoint=False,retstep=True)\n",
    "#print(points,h)\n",
    "intval=0\n",
    "\n",
    "for i in range(len(points)):\n",
    "    intval+=f(points[i])*h\n",
    "    i+=1\n",
    "print(\"The integral value is:%.4f\"%(intval))\n",
    "\n",
    "\n",
    "\n",
    "\n"
   ]
  },
  {
   "cell_type": "code",
   "execution_count": 27,
   "metadata": {
    "scrolled": false
   },
   "outputs": [
    {
     "name": "stdout",
     "output_type": "stream",
     "text": [
      "The integral value is:0.6936\n"
     ]
    }
   ],
   "source": [
    "#trapezoidal rule\n",
    "import numpy as np\n",
    "#import scipy\n",
    "\n",
    "def f(x):\n",
    "    return 1/x\n",
    "\n",
    "points,h=np.linspace(1,2,1000,endpoint=True,retstep=True)\n",
    "intval=h*((f(points[0])+f(points[-1]))/2+sum(f(points[1:])))\n",
    "print(\"The integral value is:%.4f\"%(intval))\n",
    "#print(scipy.integrate.trapz(points,x=None,dx=h))\n",
    "\n"
   ]
  },
  {
   "cell_type": "markdown",
   "metadata": {},
   "source": [
    "Given the plot of land in the figure below, use the formula of Rectangular rule to approximate the area (shown in black). Do the same using both the original formulas and scipy implementations of Trapezoidal rule and Simpson’s rule. Compute the actual area (hint: use the formula of a circle) and compare the approximate values for this area by printing the percentage accuracy (abs(approx-actual)/actual)*100) for all the above approximate values.\n"
   ]
  },
  {
   "cell_type": "code",
   "execution_count": 26,
   "metadata": {},
   "outputs": [
    {
     "name": "stdout",
     "output_type": "stream",
     "text": [
      "19.6472\n",
      "0.06247828848820843\n",
      "The integral value is:19.6347\n",
      "0.0011854664672636076\n"
     ]
    }
   ],
   "source": [
    "import numpy as np\n",
    "def g(x):\n",
    "    return (5**2-x**2)**0.5\n",
    "points,h=np.linspace(0,5,1000,endpoint=False,retstep=True)\n",
    "intval=h*(sum(g(points)))\n",
    "\n",
    "print(round(intval,4))\n",
    "actual=(25/4)*np.pi\n",
    "approx1=intval\n",
    "accuracy1=(abs(approx1-actual)/actual)*100\n",
    "print(accuracy1)\n",
    "points,h=np.linspace(0,5,1000,endpoint=True,retstep=True)\n",
    "intvalue=h*((g(points[0])+g(points[-1]))/2+sum(g(points[1:])))\n",
    "print(\"The integral value is:%.4f\"%(intvalue))\n",
    "approx2=intvalue\n",
    "accuracy2=(abs(approx2-actual)/actual)*100\n",
    "\n",
    "print(accuracy2)\n",
    "    "
   ]
  },
  {
   "cell_type": "markdown",
   "metadata": {},
   "source": [
    "Simulate a dice game for a single player named Shakuni. The player throws the dice until he gets a six, when he stops. Use random.uniform(a, b) [generates uniformly distributed random number between a & b] to simulate the outcome using the scheme: random number < 1 ⇒  side ‘one’ appears, random number >=1 and <2 ⇒ side ‘two’ appears and so on. Plot the outcomes (along y-axis, with trial number along x-axis) using matplotlib.pyplot.plot. Also, indicate the first and last throws as “start” and “stop” respectively on the plot using matplotlib.pyplot.text(x, y, t) [prints t on the plot at (x,y)].\n",
    "\n"
   ]
  },
  {
   "cell_type": "code",
   "execution_count": 54,
   "metadata": {},
   "outputs": [
    {
     "name": "stdout",
     "output_type": "stream",
     "text": [
      "[1 2 3 4 5]\n",
      "[5 3 1 3 6]\n"
     ]
    },
    {
     "data": {
      "text/plain": [
       "Text(5, 6, 'stop')"
      ]
     },
     "execution_count": 54,
     "metadata": {},
     "output_type": "execute_result"
    },
    {
     "data": {
      "image/png": "[encoded data removed]",
      "text/plain": [
       "<Figure size 432x288 with 1 Axes>"
      ]
     },
     "metadata": {
      "needs_background": "light"
     },
     "output_type": "display_data"
    }
   ],
   "source": [
    "import random\n",
    "import matplotlib.pyplot as plt\n",
    "import numpy as np\n",
    "\n",
    "L=[]\n",
    "trial_no=0\n",
    "while True:\n",
    "    i=random.uniform(0,6)\n",
    "    if i<1:\n",
    "        L.append(1)\n",
    "    if i>=1 and i<2:\n",
    "        L.append(2)\n",
    "    if i>=2 and i<3:\n",
    "        L.append(3)\n",
    "    if i>=3 and i<4:\n",
    "        L.append(4)\n",
    "    if i>=4 and i<5:\n",
    "        L.append(5)\n",
    "    if i>=5 and i<6:\n",
    "        L.append(6)\n",
    "    trial_no+=1    \n",
    "    if 6 in L:\n",
    "        break\n",
    "    if i==6:\n",
    "        break\n",
    "        \n",
    "\n",
    "T=[int(i) for i in range(1,trial_no+1)]\n",
    "t=np.array(T)\n",
    "l=np.array(L)\n",
    "print(t)\n",
    "print(l) \n",
    "\n",
    "plt.plot(t,l,'o:r')\n",
    "plt.text(t[0],l[0],'start')\n",
    "plt.text(t[-1],l[-1],\"stop\")\n"
   ]
  },
  {
   "cell_type": "markdown",
   "metadata": {},
   "source": [
    "Take marks of three subjects of three students as input. marks1 contain the marks of three subjects of student 1; similarly store marks2 and marks3. Also, take their names. Now store the subjectwise average (use numpy.mean()) in avg and plot the same using matplotlib.pyplot.bar.\n"
   ]
  },
  {
   "cell_type": "code",
   "execution_count": 49,
   "metadata": {},
   "outputs": [
    {
     "name": "stdout",
     "output_type": "stream",
     "text": [
      "tell your name:b\n",
      "tell your marks:1\n",
      "tell your marks:2\n",
      "tell your marks:3\n",
      "tell your name:f\n",
      "tell your marks:5\n",
      "tell your marks:6\n",
      "tell your marks:7\n",
      "tell your name:m\n",
      "tell your marks:3\n",
      "tell your marks:4\n",
      "tell your marks:9\n",
      "{'b': 2.0, 'f': 6.0, 'm': 5.333333333333333}\n"
     ]
    },
    {
     "data": {
      "text/plain": [
       "<BarContainer object of 3 artists>"
      ]
     },
     "execution_count": 49,
     "metadata": {},
     "output_type": "execute_result"
    },
    {
     "data": {
      "image/png": "[encoded data removed]",
      "text/plain": [
       "<Figure size 432x288 with 1 Axes>"
      ]
     },
     "metadata": {
      "needs_background": "light"
     },
     "output_type": "display_data"
    }
   ],
   "source": [
    "import numpy as np\n",
    "n=[]\n",
    "d={}\n",
    "for i in range(3):\n",
    "   \n",
    "    m=[]\n",
    "    name=input(\"tell your name:\")\n",
    "    n.append(name)\n",
    "    for j in range(3):\n",
    "        marks=float(input(\"tell your marks:\"))\n",
    "        m.append(marks)\n",
    "    avg=np.mean(m)    \n",
    "    d[name]=avg \n",
    "print(d)\n",
    "plt.bar(d.keys(),d.values())\n",
    "\n",
    "\n",
    "\n"
   ]
  },
  {
   "cell_type": "code",
   "execution_count": 44,
   "metadata": {},
   "outputs": [
    {
     "name": "stdout",
     "output_type": "stream",
     "text": [
      "2.0\n"
     ]
    }
   ],
   "source": [
    "import numpy as np\n",
    "l=[1,2,3]\n",
    "m=np.mean(l)\n",
    "print(m)"
   ]
  },
  {
   "cell_type": "markdown",
   "metadata": {},
   "source": [
    "Take a sentence (e.g. \"Information Retrieval is the science of search engines\") as input. Consider a list of stopwords (unimportant words) stop = [\"i\", \"me\", \"my\", \"myself\", \"we\", \"our\", \"ours\", \"ourselves\", \"you\", \"your\", \"yours\", \"yourself\", \"yourselves\", \"he\", \"him\", \"his\", \"himself\", \"she\", \"her\", \"hers\", \"herself\", \"it\", \"its\", \"itself\", \"they\", \"them\", \"their\", \"theirs\", \"themselves\", \"what\", \"which\", \"who\", \"whom\", \"this\", \"that\", \"these\", \"those\", \"am\", \"is\", \"are\", \"was\", \"were\", \"be\", \"been\", \"being\", \"have\", \"has\", \"had\", \"having\", \"do\", \"does\", \"did\", \"doing\", \"a\", \"an\", \"the\", \"and\", \"but\", \"if\", \"or\", \"because\", \"as\", \"until\", \"while\", \"of\", \"at\", \"by\", \"for\", \"with\", \"about\", \"against\", \"between\", \"into\", \"through\", \"during\", \"before\", \"after\", \"above\", \"below\", \"to\", \"from\", \"up\", \"down\", \"in\", \"out\", \"on\", \"off\", \"over\", \"under\", \"again\", \"further\", \"then\", \"once\", \"here\", \"there\", \"when\", \"where\", \"why\", \"how\", \"all\", \"any\", \"both\", \"each\", \"few\", \"more\", \"most\", \"other\", \"some\", \"such\", \"no\", \"nor\", \"not\", \"only\", \"own\", \"same\", \"so\", \"than\", \"too\", \"very\", \"s\", \"t\", \"can\", \"will\", \"just\", \"don\", \"should\", \"now\"]. Write a function preprocess that converts the input string to lowercase and removes all the stopwords. Finally print the preprocessed input string on the terminal. The output for the example input will be “information retrieval science search engines”.\n"
   ]
  },
  {
   "cell_type": "code",
   "execution_count": 2,
   "metadata": {},
   "outputs": [
    {
     "name": "stdout",
     "output_type": "stream",
     "text": [
      "information retrieval the science search engines\n"
     ]
    }
   ],
   "source": [
    "stop = [\"i\", \"me\", \"my\", \"myself\", \"we\", \"our\", \"ours\", \"ourselves\", \"you\", \"your\", \"yours\", \"yourself\", \"yourselves\", \"he\", \"him\", \"his\", \"himself\", \"she\", \"her\", \"hers\", \"herself\", \"it\", \"its\", \"itself\", \"they\", \"them\", \"their\", \"theirs\", \"themselves\", \"what\", \"which\", \"who\", \"whom\", \"this\", \"that\", \"these\", \"those\", \"am\", \"is\", \"are\", \"was\", \"were\", \"be\", \"been\", \"being\", \"have\", \"has\", \"had\", \"having\", \"do\", \"does\", \"did\", \"doing\", \"a\", \"an\", \"the\", \"and\", \"but\", \"if\", \"or\", \"because\", \"as\", \"until\", \"while\", \"of\", \"at\", \"by\", \"for\", \"with\", \"about\", \"against\", \"between\", \"into\", \"through\", \"during\", \"before\", \"after\", \"above\", \"below\", \"to\", \"from\", \"up\", \"down\", \"in\", \"out\", \"on\", \"off\", \"over\", \"under\", \"again\", \"further\", \"then\", \"once\", \"here\", \"there\", \"when\", \"where\", \"why\", \"how\", \"all\", \"any\", \"both\", \"each\", \"few\", \"more\", \"most\", \"other\", \"some\", \"such\", \"no\", \"nor\", \"not\", \"only\", \"own\", \"same\", \"so\", \"than\", \"too\", \"very\", \"s\", \"t\", \"can\", \"will\", \"just\", \"don\", \"should\", \"now\"]\n",
    "\n",
    "def preprocess(line):\n",
    "    \n",
    "    line_lower=line.lower().split(' ')\n",
    "    for ele in line_lower:\n",
    "        if ele in stop:\n",
    "            line_lower.remove(ele)\n",
    "    listtostr=' '.join([line_lower[i] for i in range(len(line_lower))])     \n",
    "    return listtostr\n",
    "print(preprocess(\"Information Retrieval is the science of search engines\"))   \n",
    "\n",
    "\n",
    "\n",
    "\n"
   ]
  },
  {
   "cell_type": "markdown",
   "metadata": {},
   "source": [
    "Consider five documents \n",
    "doc1 : \"Information Retrieval is the science of search engines\", \n",
    " \tdoc2 : \"This is the age of information technology\", \n",
    " \tdoc3 : \"Mathematics in the language of science\", \n",
    " \tdoc4 : \"Efficient retrieval of important data is the feature of any sound search system.\", \n",
    "  \tdoc5 : \"Gerard Salton is the father of Information Retrieval\"\n",
    " \n",
    "Use the preprocess function of Q5 to lowercase and remove stopwords from these documents. \n",
    "Now take a query string q as input from the user and preprocess it using the preprocess function. \n",
    "Now, print the documents that contain \n",
    "(i) at least one word in q and \n",
    "(ii) all the words in q\n",
    "\n",
    "For example, if the query q is “Information Retrieval” for (i) doc1, doc2, doc4 and doc5 will be printed while for (ii) doc1 and doc5 will be printed.\n"
   ]
  },
  {
   "cell_type": "code",
   "execution_count": 8,
   "metadata": {},
   "outputs": [
    {
     "name": "stdout",
     "output_type": "stream",
     "text": [
      "information retrieval the science search engines\n",
      "information retrieval the science search engines\n",
      "is age information technology\n",
      "mathematics the language science\n",
      "efficient retrieval important data the feature any sound search system.\n",
      "gerard salton the father information retrieval\n",
      "Give the string:information is knowledge\n",
      "information knowledge\n",
      "These docs have at least one word in q: This is the age of information technology\n"
     ]
    }
   ],
   "source": [
    "stop = [\"i\", \"me\", \"my\", \"myself\", \"we\", \"our\", \"ours\", \"ourselves\", \"you\", \"your\", \"yours\", \"yourself\", \"yourselves\", \"he\", \"him\", \"his\", \"himself\", \"she\", \"her\", \"hers\", \"herself\", \"it\", \"its\", \"itself\", \"they\", \"them\", \"their\", \"theirs\", \"themselves\", \"what\", \"which\", \"who\", \"whom\", \"this\", \"that\", \"these\", \"those\", \"am\", \"is\", \"are\", \"was\", \"were\", \"be\", \"been\", \"being\", \"have\", \"has\", \"had\", \"having\", \"do\", \"does\", \"did\", \"doing\", \"a\", \"an\", \"the\", \"and\", \"but\", \"if\", \"or\", \"because\", \"as\", \"until\", \"while\", \"of\", \"at\", \"by\", \"for\", \"with\", \"about\", \"against\", \"between\", \"into\", \"through\", \"during\", \"before\", \"after\", \"above\", \"below\", \"to\", \"from\", \"up\", \"down\", \"in\", \"out\", \"on\", \"off\", \"over\", \"under\", \"again\", \"further\", \"then\", \"once\", \"here\", \"there\", \"when\", \"where\", \"why\", \"how\", \"all\", \"any\", \"both\", \"each\", \"few\", \"more\", \"most\", \"other\", \"some\", \"such\", \"no\", \"nor\", \"not\", \"only\", \"own\", \"same\", \"so\", \"than\", \"too\", \"very\", \"s\", \"t\", \"can\", \"will\", \"just\", \"don\", \"should\", \"now\"]\n",
    "\n",
    "def preprocess(line):\n",
    "    \n",
    "    line_lower=line.lower().split(' ')\n",
    "    for ele in line_lower:\n",
    "        if ele in stop:\n",
    "            line_lower.remove(ele)\n",
    "    listtostr=' '.join([line_lower[i] for i in range(len(line_lower))])     \n",
    "    return listtostr\n",
    "print(preprocess(\"Information Retrieval is the science of search engines\"))   \n",
    "doc_1= \"Information Retrieval is the science of search engines\" \n",
    "doc_2=\"This is the age of information technology\" \n",
    "doc_3=\"Mathematics in the language of science\"\n",
    "doc_4=\"Efficient retrieval of important data is the feature of any sound search system.\" \n",
    "doc_5=\"Gerard Salton is the father of Information Retrieval\"\n",
    "lst=[doc_1,doc_2,doc_3,doc_4,doc_5] \n",
    "for i in lst:\n",
    "    print(preprocess(i))\n",
    "q=input(\"Give the string:\")\n",
    "pres=preprocess(q)\n",
    "pres_split=pres.split(' ')\n",
    "print(pres)\n",
    "for ele in lst:\n",
    "    d_split=ele.split(\" \")\n",
    "    for j in d_split:\n",
    "        if j in pres_split:\n",
    "            print(\"These docs have at least one word in q:\",ele )\n",
    "        \n",
    "    \n"
   ]
  },
  {
   "cell_type": "code",
   "execution_count": null,
   "metadata": {},
   "outputs": [],
   "source": []
  },
  {
   "cell_type": "code",
   "execution_count": null,
   "metadata": {},
   "outputs": [],
   "source": []
  },
  {
   "cell_type": "code",
   "execution_count": null,
   "metadata": {},
   "outputs": [],
   "source": []
  },
  {
   "cell_type": "code",
   "execution_count": null,
   "metadata": {},
   "outputs": [],
   "source": []
  },
  {
   "cell_type": "code",
   "execution_count": null,
   "metadata": {},
   "outputs": [],
   "source": []
  }
 ],
 "metadata": {
  "kernelspec": {
   "display_name": "Python 3",
   "language": "python",
   "name": "python3"
  },
  "language_info": {
   "codemirror_mode": {
    "name": "ipython",
    "version": 3
   },
   "file_extension": ".py",
   "mimetype": "text/x-python",
   "name": "python",
   "nbconvert_exporter": "python",
   "pygments_lexer": "ipython3",
   "version": "3.8.10"
  }
 },
 "nbformat": 4,
 "nbformat_minor": 4
}
